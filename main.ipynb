{
  "cells": [
    {
      "cell_type": "markdown",
      "metadata": {
        "id": "Vt7eSy8Ylsu6"
      },
      "source": [
        "Shitty project nr 4. Catastrophic forgetting..."
      ]
    },
    {
      "cell_type": "code",
      "execution_count": 1,
      "metadata": {
        "gather": {
          "logged": 1706000945566
        },
        "id": "QaRdm33Klsu-"
      },
      "outputs": [],
      "source": [
        "\"\"\" Needed Libraries \"\"\"\n",
        "from copy import deepcopy\n",
        "from typing import Optional\n",
        "\n",
        "import matplotlib.pyplot as plt\n",
        "import numpy as np\n",
        "\n",
        "import torch\n",
        "import torchvision\n",
        "from torch.utils.data import DataLoader, random_split, ConcatDataset\n",
        "from torchvision import transforms, datasets\n",
        "import torchvision.transforms as T\n",
        "import torch.nn.functional as F\n",
        "import torch.nn as nn\n",
        "import torch.optim as optim\n",
        "\n",
        "from typing import Optional\n",
        "\n",
        "import multiprocessing\n",
        "\n",
        "\"\"\" Constants \"\"\"\n",
        "\n",
        "BATCH_SIZE = 1  # should be 1\n",
        "TEST_BATCH_SIZE = 1024\n",
        "LEARNING_RATE = 1e-3"
      ]
    },
    {
      "cell_type": "markdown",
      "metadata": {
        "id": "AZ29z10alsvA"
      },
      "source": [
        "## Data Recovery and Processing ##"
      ]
    },
    {
      "cell_type": "code",
      "execution_count": 2,
      "metadata": {
        "colab": {
          "base_uri": "https://localhost:8080/"
        },
        "executionInfo": {
          "elapsed": 4,
          "status": "ok",
          "timestamp": 1703260680216,
          "user": {
            "displayName": "Anh Do Quang",
            "userId": "10755844953238193000"
          },
          "user_tz": -60
        },
        "gather": {
          "logged": 1706000945790
        },
        "id": "QWypwxdal1Cb",
        "outputId": "1580e9a2-8988-4407-9c95-672d6dac30c2"
      },
      "outputs": [
        {
          "name": "stdout",
          "output_type": "stream",
          "text": [
            "cpu\n"
          ]
        }
      ],
      "source": [
        "# find out which device is available\n",
        "def device_type():\n",
        "    if torch.cuda.is_available():\n",
        "        return \"cuda\"\n",
        "    elif torch.backends.mps.is_available():\n",
        "        return \"mps\"\n",
        "    else:\n",
        "        return \"cpu\"\n",
        "\n",
        "\n",
        "DEVICE = torch.device(device_type())\n",
        "print(DEVICE)"
      ]
    },
    {
      "cell_type": "code",
      "execution_count": 3,
      "metadata": {
        "gather": {
          "logged": 1706000946010
        },
        "id": "1ifqgymJlsvA"
      },
      "outputs": [],
      "source": [
        "\"\"\"\n",
        "The magical permutation object that will permutate all of\n",
        "our images deterministically, effectively making learning each permutation a unique task.\n",
        "\"\"\"\n",
        "\n",
        "\n",
        "class RandomPermutation(object):\n",
        "    def __init__(self, num_features: int, generator: torch.Generator):\n",
        "        self.num_features = num_features\n",
        "        self.reindex = torch.randperm(num_features, generator=generator)\n",
        "\n",
        "    def __call__(self, img):\n",
        "        assert self.num_features == img.numel()\n",
        "\n",
        "        orig_shape = img.shape\n",
        "        img = img.view(-1)[self.reindex].view(orig_shape)\n",
        "\n",
        "        return img"
      ]
    },
    {
      "cell_type": "code",
      "execution_count": 4,
      "metadata": {
        "gather": {
          "logged": 1706000946227
        }
      },
      "outputs": [],
      "source": [
        "def data_generation(\n",
        "    seed: int,\n",
        "    num_workers: int = 2,\n",
        "    batch_size: int = BATCH_SIZE,\n",
        "    test_size: int = TEST_BATCH_SIZE,\n",
        "):\n",
        "    task_generator = torch.Generator()\n",
        "    task_generator.manual_seed(seed)\n",
        "\n",
        "    transform = T.Compose(\n",
        "        [\n",
        "            T.ToTensor(),\n",
        "            T.Normalize((0.5,), (0.5,)),\n",
        "            RandomPermutation(28 * 28, task_generator),\n",
        "        ]\n",
        "    )\n",
        "\n",
        "    train_dataset = torchvision.datasets.MNIST(\n",
        "        root=\"./data/\", train=True, download=True, transform=transform\n",
        "    )\n",
        "    test_dataset = torchvision.datasets.MNIST(\n",
        "        root=\"./data/\", train=False, download=True, transform=transform\n",
        "    )\n",
        "\n",
        "    train_dataset, valid_dataset = random_split(train_dataset, lengths=[50000, 10000])\n",
        "\n",
        "    train_dataloader = torch.utils.data.DataLoader(\n",
        "        dataset=train_dataset,\n",
        "        batch_size=batch_size,\n",
        "        shuffle=True,\n",
        "        num_workers=num_workers,\n",
        "    )\n",
        "\n",
        "    valid_dataloader = torch.utils.data.DataLoader(\n",
        "        dataset=valid_dataset,\n",
        "        batch_size=test_size,\n",
        "        shuffle=False,\n",
        "        num_workers=num_workers,\n",
        "    )\n",
        "\n",
        "    test_dataloader = torch.utils.data.DataLoader(\n",
        "        dataset=test_dataset,\n",
        "        batch_size=test_size,\n",
        "        shuffle=False,\n",
        "        num_workers=num_workers,\n",
        "    )\n",
        "\n",
        "    return test_dataloader, train_dataloader, valid_dataloader"
      ]
    },
    {
      "cell_type": "code",
      "execution_count": 5,
      "metadata": {
        "gather": {
          "logged": 1706000946774
        }
      },
      "outputs": [],
      "source": [
        "testA_dataloader, trainA_dataloader, validA_dataloader = data_generation(\n",
        "    1, num_workers=0\n",
        ")\n",
        "testB_dataloader, trainB_dataloader, validB_dataloader = data_generation(\n",
        "    2321, num_workers=0\n",
        ")\n",
        "testC_dataloader, trainC_dataloader, validC_dataloader = data_generation(\n",
        "    103032, num_workers=0\n",
        ")"
      ]
    },
    {
      "cell_type": "code",
      "execution_count": 6,
      "metadata": {
        "colab": {
          "base_uri": "https://localhost:8080/"
        },
        "executionInfo": {
          "elapsed": 581,
          "status": "ok",
          "timestamp": 1703260681585,
          "user": {
            "displayName": "Anh Do Quang",
            "userId": "10755844953238193000"
          },
          "user_tz": -60
        },
        "gather": {
          "logged": 1706000947095
        },
        "id": "OpKjQF6QlsvC",
        "outputId": "7ce5f37c-f8d3-4f89-adae-e11cdd4dcd2e"
      },
      "outputs": [
        {
          "name": "stderr",
          "output_type": "stream",
          "text": [
            "Clipping input data to the valid range for imshow with RGB data ([0..1] for floats or [0..255] for integers).\n"
          ]
        },
        {
          "data": {
            "text/plain": [
              "torch.Size([1, 28, 28])"
            ]
          },
          "execution_count": 6,
          "metadata": {},
          "output_type": "execute_result"
        },
        {
          "data": {
            "image/png": "[encoded data removed]",
            "text/plain": [
              "<Figure size 640x480 with 1 Axes>"
            ]
          },
          "metadata": {},
          "output_type": "display_data"
        }
      ],
      "source": [
        "# Get the first 10 images of the train dataset. Hint: use next(), iter()\n",
        "images = next(iter(trainC_dataloader))[0][:10]\n",
        "grid = torchvision.utils.make_grid(images, nrow=5, padding=10)\n",
        "\n",
        "\n",
        "def show(img):\n",
        "    npimg = img.numpy()\n",
        "    plt.imshow(np.transpose(npimg, (1, 2, 0)), interpolation=\"nearest\")\n",
        "\n",
        "\n",
        "show(grid)\n",
        "\n",
        "images[0].shape"
      ]
    },
    {
      "cell_type": "markdown",
      "metadata": {
        "id": "57u54V5alsvD"
      },
      "source": [
        "## Modelling ##"
      ]
    },
    {
      "cell_type": "markdown",
      "metadata": {
        "id": "Is-GoqAJ5YGq"
      },
      "source": [
        "### The deep NN ###"
      ]
    },
    {
      "cell_type": "code",
      "execution_count": 7,
      "metadata": {
        "gather": {
          "logged": 1706000947308
        },
        "id": "T8StdoO2lsvE"
      },
      "outputs": [],
      "source": [
        "class MLP_Net_A(nn.Module):\n",
        "    def __init__(self):\n",
        "        # define the different modules of the network\n",
        "        super().__init__()\n",
        "\n",
        "        self.hl1 = nn.Linear(28 * 28, 400)\n",
        "        self.hl2 = nn.Linear(400, 400)\n",
        "        self.ol = nn.Linear(400, 10)\n",
        "        self.relu = nn.ReLU()\n",
        "\n",
        "    def forward(self, x: torch.Tensor) -> torch.Tensor:\n",
        "        # Image to vector (flatten)\n",
        "        x = x.view(x.shape[0], -1)\n",
        "\n",
        "        x = self.hl1(x)\n",
        "        x = self.relu(x)\n",
        "        x = self.hl2(x)\n",
        "        x = self.relu(x)\n",
        "        x = self.ol(x)\n",
        "\n",
        "        return x\n",
        "\n",
        "\n",
        "class MLP_Net_B(nn.Module):\n",
        "    def __init__(self):\n",
        "        # define the different modules of the network\n",
        "        super().__init__()\n",
        "\n",
        "        self.hl1 = nn.Linear(28 * 28, 2000)\n",
        "        self.hl2 = nn.Linear(2000, 2000)\n",
        "        self.ol = nn.Linear(2000, 10)\n",
        "        self.relu = nn.ReLU()\n",
        "        self.dropout_input = nn.Dropout(p=0.2)\n",
        "        self.dropout = nn.Dropout(p=0.5)\n",
        "\n",
        "    def forward(self, x: torch.Tensor) -> torch.Tensor:\n",
        "        # Image to vector (flatten)\n",
        "        x = x.view(x.shape[0], -1)\n",
        "\n",
        "        x = self.hl1(x)\n",
        "        x = self.relu(x)\n",
        "        x = self.dropout_input(x)\n",
        "\n",
        "        x = self.hl2(x)\n",
        "        x = self.relu(x)\n",
        "        x = self.dropout(x)\n",
        "\n",
        "        x = self.ol(x)\n",
        "\n",
        "        return x"
      ]
    },
    {
      "cell_type": "markdown",
      "metadata": {
        "id": "eKu6PxUK_DKl"
      },
      "source": [
        "### Basic Training functions etc ###"
      ]
    },
    {
      "cell_type": "code",
      "execution_count": 8,
      "metadata": {
        "gather": {
          "logged": 1706000947528
        }
      },
      "outputs": [],
      "source": [
        "def GS_lambda(\n",
        "    checkpoint,\n",
        "    train_dataloader,\n",
        "    valid_dataloaders,\n",
        "    lams,\n",
        "    current_lams,\n",
        "    fishers,\n",
        "    old_params,\n",
        "):\n",
        "    val_accs = []\n",
        "    for lam in lams:\n",
        "        print(lam)\n",
        "        model = MLP_Net_A()\n",
        "        model = model_ewc.to(DEVICE)\n",
        "        optimizer = optim.SGD(model.parameters(), lr=LEARNING_RATE)\n",
        "\n",
        "        # Load model state\n",
        "        model.load_state_dict(checkpoint[\"model_state_dict\"])\n",
        "        optimizer.load_state_dict(checkpoint[\"optimizer_state_dict\"])\n",
        "\n",
        "        # Train\n",
        "        (\n",
        "            epochs_list,\n",
        "            losses_EWC_training,\n",
        "            losses_EWC_validation,\n",
        "            accuracy_EWC_validation,\n",
        "        ) = ewc_training(\n",
        "            model=model,\n",
        "            train_dataloader=train_dataloader,\n",
        "            optimizer=optimizer,\n",
        "            epochs=1,\n",
        "            device=DEVICE,\n",
        "            ewc_lambda=current_lams + [lam],\n",
        "            fishers=fishers,\n",
        "            old_param=old_params,\n",
        "        )\n",
        "\n",
        "        GS_set = torch.utils.data.ConcatDataset(\n",
        "            [dl.dataset for dl in valid_dataloaders]\n",
        "        )\n",
        "\n",
        "        GS_loader = DataLoader(GS_set, shuffle=True, batch_size=len(GS_set))\n",
        "\n",
        "        _, val_acc = predict(model, GS_loader)\n",
        "\n",
        "        val_accs.append(val_acc)\n",
        "\n",
        "    return lams[val_accs.index(max(val_accs))]"
      ]
    },
    {
      "cell_type": "code",
      "execution_count": 9,
      "metadata": {
        "gather": {
          "logged": 1706000947749
        }
      },
      "outputs": [],
      "source": [
        "def predict(\n",
        "    model: nn.Module,\n",
        "    test_dataloader: DataLoader,\n",
        "    device: torch.device = DEVICE,\n",
        "    verbose=True,\n",
        "):\n",
        "    model.eval()\n",
        "    test_loss = 0\n",
        "    correct = 0\n",
        "    with torch.no_grad():\n",
        "        for data, target in test_dataloader:\n",
        "            data, target = data.to(device), target.to(device)\n",
        "            output = model(data)\n",
        "            loss = F.cross_entropy(output, target, reduction=\"sum\")\n",
        "            test_loss += loss.item()\n",
        "            pred = output.data.max(1, keepdim=True)[1]\n",
        "            correct += pred.eq(target.data.view_as(pred)).sum()\n",
        "\n",
        "    test_loss /= len(test_dataloader.dataset)\n",
        "    accuracy = 100.0 * correct / len(test_dataloader.dataset)\n",
        "\n",
        "    if verbose:\n",
        "        print(\n",
        "            f\"Test set: Avg. loss: {test_loss:.4f}, Accuracy: {correct}/{len(test_dataloader.dataset)} ({accuracy:.0f}%)\"\n",
        "        )\n",
        "\n",
        "    return test_loss, accuracy"
      ]
    },
    {
      "cell_type": "code",
      "execution_count": 10,
      "metadata": {
        "gather": {
          "logged": 1706000947959
        }
      },
      "outputs": [],
      "source": [
        "def estimate_fisher_diagonal(\n",
        "    model: nn.Module, dataloader: DataLoader, device: str = DEVICE\n",
        "):\n",
        "    precision_matrices = {}\n",
        "    for name, param in deepcopy(model).named_parameters():\n",
        "        precision_matrices[name] = torch.zeros_like(param.data)\n",
        "\n",
        "    model.eval()\n",
        "\n",
        "    for inputs, targets in dataloader:\n",
        "        inputs, targets = inputs.to(device), targets.to(device)\n",
        "        model.zero_grad()\n",
        "\n",
        "        output = model(inputs).view(1, -1)\n",
        "        label = output.max(1)[1].view(-1)\n",
        "        loss = F.nll_loss(F.log_softmax(output, dim=1), label)\n",
        "        # loss = F.cross_entropy(output, label)\n",
        "\n",
        "        loss.backward()\n",
        "\n",
        "        for name, param in model.named_parameters():\n",
        "            if name in precision_matrices:\n",
        "                precision_matrices[name].data += param.grad.data.clone() ** 2 / len(\n",
        "                    dataloader\n",
        "                )\n",
        "\n",
        "    return {name: param for name, param in precision_matrices.items()}"
      ]
    },
    {
      "cell_type": "markdown",
      "metadata": {},
      "source": [
        "### EWC training ###"
      ]
    },
    {
      "cell_type": "code",
      "execution_count": 11,
      "metadata": {
        "gather": {
          "logged": 1706000948173
        }
      },
      "outputs": [],
      "source": [
        "def ewc_training(\n",
        "    model: nn.Module,\n",
        "    train_dataloader: DataLoader,\n",
        "    optimizer: torch.optim.Optimizer,\n",
        "    epochs: int,\n",
        "    device: torch.device,\n",
        "    fishers: list,\n",
        "    old_param: list,\n",
        "    ewc_lambda: list,\n",
        "    s_epoch: int = 0,\n",
        "    valid_dataloaders=None,\n",
        "):\n",
        "    \"\"\"\n",
        "    the fit method simply calls the train_epoch() method for a\n",
        "    specified number of epochs.\n",
        "    \"\"\"\n",
        "\n",
        "    # keep track of the losses in order to visualize them later\n",
        "    # Train for numerous epochs:\n",
        "    train_losses = []\n",
        "    valid_losses = []\n",
        "    valid_accuracys = []\n",
        "    epochslist = range(s_epoch, epochs + s_epoch)\n",
        "\n",
        "    for epoch in epochslist:\n",
        "        running_loss = 0.0\n",
        "        model = model.to(device)\n",
        "        model.train()\n",
        "\n",
        "        for _, (data, target) in enumerate(train_dataloader):\n",
        "            # move data and target to device\n",
        "            data, target = data.to(device), target.to(device)\n",
        "\n",
        "            # zero the parameter gradients\n",
        "            optimizer.zero_grad()\n",
        "\n",
        "            # do the forward pass\n",
        "            output = model(data)\n",
        "\n",
        "            # compute the loss\n",
        "            loss_ce = F.cross_entropy(output, target)\n",
        "\n",
        "            # Calculate EWC regularization term\n",
        "            loss_ewc = 0\n",
        "            for task in range(len(fishers)):\n",
        "                for name, param in model.named_parameters():\n",
        "                    loss_ewc += (\n",
        "                        ewc_lambda[task]\n",
        "                        / 2\n",
        "                        * (\n",
        "                            fishers[task][name] * (param - old_param[task][name]) ** 2\n",
        "                        ).sum()\n",
        "                    )\n",
        "\n",
        "            loss = loss_ce + loss_ewc\n",
        "\n",
        "            # compute the gradient\n",
        "            loss.backward()\n",
        "\n",
        "            # perform the gradient step\n",
        "            optimizer.step()\n",
        "\n",
        "            # print statistics\n",
        "            running_loss += loss.item()\n",
        "\n",
        "        train_loss = running_loss / len(train_dataloader)\n",
        "        train_losses.append(train_loss)\n",
        "\n",
        "        if valid_dataloaders is not None:\n",
        "            temp_acc = []\n",
        "            temp_loss = []\n",
        "            for dataloader in valid_dataloaders:\n",
        "                valid_loss, valid_acc = predict(\n",
        "                    model, dataloader, device, verbose=False\n",
        "                )\n",
        "                temp_loss.append(valid_loss)\n",
        "                temp_acc.append(float(valid_acc))\n",
        "\n",
        "            valid_losses.append(temp_loss)\n",
        "            valid_accuracys.append(temp_acc)\n",
        "\n",
        "        if valid_dataloaders is None:\n",
        "            print(f\"Epoch {epoch}: Train Loss={train_loss:.4f}\")\n",
        "        else:\n",
        "            text = f\"Epoch {epoch}: Train Loss={train_loss:.4f}\"\n",
        "            for idx, acc in enumerate(temp_acc):\n",
        "                text += (\n",
        "                    f\" Validation Loss={temp_loss[idx]:.4f}, Validation Acc={acc:.0f}%\"\n",
        "                )\n",
        "\n",
        "            print(text)\n",
        "    return (\n",
        "        epochslist,\n",
        "        train_losses,\n",
        "        [list(i) for i in zip(*valid_losses)],\n",
        "        [list(i) for i in zip(*valid_accuracys)],\n",
        "    )"
      ]
    },
    {
      "cell_type": "markdown",
      "metadata": {},
      "source": [
        "### L2 training ###"
      ]
    },
    {
      "cell_type": "code",
      "execution_count": 12,
      "metadata": {
        "gather": {
          "logged": 1706000948395
        }
      },
      "outputs": [],
      "source": [
        "def l2_training(\n",
        "    model: nn.Module,\n",
        "    train_dataloader: DataLoader,\n",
        "    optimizer: torch.optim.Optimizer,\n",
        "    epochs: int,\n",
        "    device: torch.device,\n",
        "    old_param: list,\n",
        "    s_epoch: int = 0,\n",
        "    valid_dataloaders=None,\n",
        "    l2_lambda: float = 0,\n",
        "):\n",
        "    \"\"\"\n",
        "    the fit method simply calls the train_epoch() method for a\n",
        "    specified number of epochs.\n",
        "    \"\"\"\n",
        "\n",
        "    # keep track of the losses in order to visualize them later\n",
        "    # Train for numerous epochs:\n",
        "    train_losses = []\n",
        "    valid_losses = []\n",
        "    valid_accuracys = []\n",
        "    epochslist = range(s_epoch, epochs + s_epoch)\n",
        "\n",
        "    for epoch in epochslist:\n",
        "        running_loss = 0.0\n",
        "        model = model.to(device)\n",
        "        model.train()\n",
        "\n",
        "        for _, (data, target) in enumerate(train_dataloader):\n",
        "            # move data and target to device\n",
        "            data, target = data.to(device), target.to(device)\n",
        "\n",
        "            # zero the parameter gradients\n",
        "            optimizer.zero_grad()\n",
        "\n",
        "            # do the forward pass\n",
        "            output = model(data)\n",
        "\n",
        "            # compute the loss\n",
        "            loss_ce = F.cross_entropy(output, target)\n",
        "\n",
        "            # Calculate l2 regularization term\n",
        "            loss_l2 = 0\n",
        "            for task in range(len(old_param)):\n",
        "                for name, param in model.named_parameters():\n",
        "                    loss_l2 += ((param - old_param[task][name]) ** 2).sum()\n",
        "\n",
        "            loss = loss_ce + l2_lambda / 2 * loss_l2\n",
        "\n",
        "            # compute the gradient\n",
        "            loss.backward()\n",
        "\n",
        "            # perform the gradient step\n",
        "            optimizer.step()\n",
        "\n",
        "            # print statistics\n",
        "            running_loss += loss.item()\n",
        "\n",
        "        train_loss = running_loss / len(train_dataloader)\n",
        "        train_losses.append(train_loss)\n",
        "\n",
        "        if valid_dataloaders is not None:\n",
        "            temp_acc = []\n",
        "            temp_loss = []\n",
        "            for dataloader in valid_dataloaders:\n",
        "                valid_loss, valid_acc = predict(\n",
        "                    model, dataloader, device, verbose=False\n",
        "                )\n",
        "                temp_loss.append(valid_loss)\n",
        "                temp_acc.append(float(valid_acc))\n",
        "\n",
        "            valid_losses.append(temp_loss)\n",
        "            valid_accuracys.append(temp_acc)\n",
        "\n",
        "        if valid_dataloaders is None:\n",
        "            print(f\"Epoch {epoch}: Train Loss={train_loss:.4f}\")\n",
        "        else:\n",
        "            text = f\"Epoch {epoch}: Train Loss={train_loss:.4f}\"\n",
        "            for idx, acc in enumerate(temp_acc):\n",
        "                text += (\n",
        "                    f\" Validation Loss={temp_loss[idx]:.4f}, Validation Acc={acc:.0f}%\"\n",
        "                )\n",
        "\n",
        "            print(text)\n",
        "    return (\n",
        "        epochslist,\n",
        "        train_losses,\n",
        "        [list(i) for i in zip(*valid_losses)],\n",
        "        [list(i) for i in zip(*valid_accuracys)],\n",
        "    )"
      ]
    },
    {
      "cell_type": "markdown",
      "metadata": {
        "id": "7V8hmbeHlsvF"
      },
      "source": [
        "### SGD training ###"
      ]
    },
    {
      "cell_type": "code",
      "execution_count": 13,
      "metadata": {
        "gather": {
          "logged": 1706000948615
        }
      },
      "outputs": [],
      "source": [
        "def sgd_training(\n",
        "    model: nn.Module,\n",
        "    train_dataloader: DataLoader,\n",
        "    optimizer: torch.optim.Optimizer,\n",
        "    epochs: int,\n",
        "    device: torch.device,\n",
        "    s_epoch: int = 0,\n",
        "    valid_dataloaders=None,\n",
        "):\n",
        "    \"\"\"\n",
        "    the fit method simply calls the train_epoch() method for a\n",
        "    specified number of epochs.\n",
        "    \"\"\"\n",
        "\n",
        "    # keep track of the losses in order to visualize them later\n",
        "    # Train for numerous epochs:\n",
        "    train_losses = []\n",
        "    valid_losses = []\n",
        "    valid_accuracys = []\n",
        "    epochslist = range(s_epoch, epochs + s_epoch)\n",
        "\n",
        "    for epoch in epochslist:\n",
        "        running_loss = 0.0\n",
        "        model = model.to(device)\n",
        "        model.train()\n",
        "\n",
        "        for _, (data, target) in enumerate(train_dataloader):\n",
        "            # move data and target to device\n",
        "            data, target = data.to(device), target.to(device)\n",
        "\n",
        "            # zero the parameter gradients\n",
        "            optimizer.zero_grad()\n",
        "\n",
        "            # do the forward pass\n",
        "            output = model(data)\n",
        "\n",
        "            # compute the loss\n",
        "            loss = F.cross_entropy(output, target)\n",
        "\n",
        "            # compute the gradient\n",
        "            loss.backward()\n",
        "\n",
        "            # perform the gradient step\n",
        "            optimizer.step()\n",
        "\n",
        "            # print statistics\n",
        "            running_loss += loss.item()\n",
        "\n",
        "        train_loss = running_loss / len(train_dataloader)\n",
        "        train_losses.append(train_loss)\n",
        "\n",
        "        if valid_dataloaders is not None:\n",
        "            temp_acc = []\n",
        "            temp_loss = []\n",
        "            for dataloader in valid_dataloaders:\n",
        "                valid_loss, valid_acc = predict(\n",
        "                    model, dataloader, device, verbose=False\n",
        "                )\n",
        "                temp_loss.append(valid_loss)\n",
        "                temp_acc.append(float(valid_acc))\n",
        "\n",
        "            valid_losses.append(temp_loss)\n",
        "            valid_accuracys.append(temp_acc)\n",
        "\n",
        "        if valid_dataloaders is None:\n",
        "            print(f\"Epoch {epoch}: Train Loss={train_loss:.4f}\")\n",
        "        else:\n",
        "            text = f\"Epoch {epoch}: Train Loss={train_loss:.4f}\"\n",
        "            for idx, acc in enumerate(temp_acc):\n",
        "                text += (\n",
        "                    f\" Validation Loss={temp_loss[idx]:.4f}, Validation Acc={acc:.0f}%\"\n",
        "                )\n",
        "\n",
        "            print(text)\n",
        "    return (\n",
        "        epochslist,\n",
        "        train_losses,\n",
        "        [list(i) for i in zip(*valid_losses)],\n",
        "        [list(i) for i in zip(*valid_accuracys)],\n",
        "    )"
      ]
    },
    {
      "cell_type": "markdown",
      "metadata": {
        "nteract": {
          "transient": {
            "deleting": false
          }
        }
      },
      "source": [
        "### EWC ###"
      ]
    },
    {
      "cell_type": "code",
      "execution_count": 30,
      "metadata": {
        "collapsed": false,
        "gather": {
          "logged": 1705862815420
        },
        "jupyter": {
          "outputs_hidden": false,
          "source_hidden": false
        },
        "nteract": {
          "transient": {
            "deleting": false
          }
        },
        "tags": []
      },
      "outputs": [],
      "source": [
        "old_params = []\n",
        "fishers = []\n",
        "lambdas = []"
      ]
    },
    {
      "cell_type": "code",
      "execution_count": 43,
      "metadata": {
        "colab": {
          "base_uri": "https://localhost:8080/"
        },
        "collapsed": false,
        "executionInfo": {
          "elapsed": 2087744,
          "status": "ok",
          "timestamp": 1703017337658,
          "user": {
            "displayName": "Anh Do Quang",
            "userId": "10755844953238193000"
          },
          "user_tz": -60
        },
        "gather": {
          "logged": 1704105038159
        },
        "id": "YfXsgsb1lsvF",
        "jupyter": {
          "outputs_hidden": false
        },
        "outputId": "66235b45-3fd2-483f-bbe0-aa3f4dcb77fe",
        "tags": []
      },
      "outputs": [
        {
          "name": "stdout",
          "output_type": "stream",
          "text": [
            "Epoch 0: Train Loss=0.4440 Validation Loss=0.2550, Validation Acc=92%\n",
            "Epoch 1: Train Loss=0.2030 Validation Loss=0.1777, Validation Acc=95%\n",
            "Epoch 2: Train Loss=0.1425 Validation Loss=0.1482, Validation Acc=96%\n",
            "Epoch 3: Train Loss=0.1104 Validation Loss=0.1290, Validation Acc=96%\n",
            "Epoch 4: Train Loss=0.0887 Validation Loss=0.1097, Validation Acc=97%\n",
            "Epoch 5: Train Loss=0.0746 Validation Loss=0.1042, Validation Acc=97%\n",
            "Epoch 6: Train Loss=0.0625 Validation Loss=0.1119, Validation Acc=97%\n",
            "Epoch 7: Train Loss=0.0544 Validation Loss=0.0995, Validation Acc=97%\n",
            "Epoch 8: Train Loss=0.0462 Validation Loss=0.0944, Validation Acc=97%\n",
            "Epoch 9: Train Loss=0.0390 Validation Loss=0.1254, Validation Acc=96%\n",
            "Epoch 10: Train Loss=0.0347 Validation Loss=0.0870, Validation Acc=97%\n",
            "Epoch 11: Train Loss=0.0298 Validation Loss=0.0936, Validation Acc=97%\n",
            "Epoch 12: Train Loss=0.0265 Validation Loss=0.0886, Validation Acc=98%\n",
            "Epoch 13: Train Loss=0.0234 Validation Loss=0.0845, Validation Acc=98%\n",
            "Epoch 14: Train Loss=0.0196 Validation Loss=0.1031, Validation Acc=97%\n",
            "Epoch 15: Train Loss=0.0169 Validation Loss=0.0848, Validation Acc=98%\n",
            "Epoch 16: Train Loss=0.0137 Validation Loss=0.0883, Validation Acc=98%\n",
            "Epoch 17: Train Loss=0.0132 Validation Loss=0.0890, Validation Acc=98%\n",
            "Epoch 18: Train Loss=0.0110 Validation Loss=0.0885, Validation Acc=98%\n",
            "Epoch 19: Train Loss=0.0088 Validation Loss=0.0881, Validation Acc=98%\n"
          ]
        }
      ],
      "source": [
        "model_ewc = MLP_Net_A()\n",
        "model_ewc = model_ewc.to(DEVICE)\n",
        "\n",
        "optimizer_ewc = optim.SGD(model_ewc.parameters(), lr=LEARNING_RATE)\n",
        "\n",
        "# train for 20 epochs each training set based on TASK A  (validatiation set A) basic EWC\n",
        "(\n",
        "    epochs_list_1,\n",
        "    losses_EWC_training_1,\n",
        "    losses_EWC_validation_1,\n",
        "    accuracy_EWC_validation_1,\n",
        ") = sgd_training(\n",
        "    model=model_ewc,\n",
        "    train_dataloader=trainA_dataloader,\n",
        "    valid_dataloaders=[validA_dataloader],\n",
        "    optimizer=optimizer_ewc,\n",
        "    epochs=20,\n",
        "    device=DEVICE,\n",
        ")\n",
        "\n",
        "torch.save(\n",
        "    {\n",
        "        \"model_state_dict\": model_ewc.state_dict(),\n",
        "        \"optimizer_state_dict\": optimizer_ewc.state_dict(),\n",
        "        \"training_losses\": losses_EWC_training_1,\n",
        "        \"validation_losses\": losses_EWC_validation_1,\n",
        "        \"validation_accuracy\": accuracy_EWC_validation_1,\n",
        "    },\n",
        "    \"model_ewc_A_check.tar\",\n",
        ")"
      ]
    },
    {
      "cell_type": "code",
      "execution_count": 17,
      "metadata": {
        "gather": {
          "logged": 1706001301377
        },
        "id": "C9Km0L0xPqFH",
        "tags": []
      },
      "outputs": [],
      "source": [
        "checkpoint = torch.load(\"model_ewc_A_check.tar\", map_location=torch.device(DEVICE))\n",
        "\n",
        "model_ewc = MLP_Net_A()\n",
        "model_ewc = model_ewc.to(DEVICE)\n",
        "optimizer_ewc = optim.SGD(model_ewc.parameters(), lr=LEARNING_RATE)\n",
        "\n",
        "# Load model state\n",
        "model_ewc.load_state_dict(checkpoint[\"model_state_dict\"])\n",
        "optimizer_ewc.load_state_dict(checkpoint[\"optimizer_state_dict\"])"
      ]
    },
    {
      "cell_type": "code",
      "execution_count": 18,
      "metadata": {
        "gather": {
          "logged": 1706001373191
        },
        "tags": []
      },
      "outputs": [],
      "source": [
        "dataloaderA_fim = torch.utils.data.DataLoader(\n",
        "    trainA_dataloader.dataset, batch_size=1, shuffle=True\n",
        ")\n",
        "fishers = [estimate_fisher_diagonal(deepcopy(model_ewc, dataloaderA_fim))]\n",
        "old_params = [{n: p for n, p in deepcopy(model_ewc).named_parameters()}]\n",
        "\n",
        "# lambdas = [GS_lambda(checkpoint, trainB_dataloader, [trainA_dataloader], [2e-1,2e0,2e1,2e2,2e3,2e4,2e5,2e6,2e7], lambdas, fishers, old_params)] #2e5 seems to be best\n",
        "lambdas = [1e5]"
      ]
    },
    {
      "cell_type": "code",
      "execution_count": 60,
      "metadata": {
        "collapsed": false,
        "gather": {
          "logged": 1704105496958
        },
        "id": "pVlalwihAduj",
        "jupyter": {
          "outputs_hidden": false
        },
        "tags": []
      },
      "outputs": [
        {
          "name": "stdout",
          "output_type": "stream",
          "text": [
            "Epoch 20: Train Loss=0.8370 Validation Loss=0.0736, Validation Acc=98% Validation Loss=0.3440, Validation Acc=90%\n",
            "Epoch 21: Train Loss=0.4252 Validation Loss=0.0552, Validation Acc=98% Validation Loss=0.2641, Validation Acc=92%\n",
            "Epoch 22: Train Loss=0.3373 Validation Loss=0.0609, Validation Acc=98% Validation Loss=0.2471, Validation Acc=92%\n",
            "Epoch 23: Train Loss=0.2889 Validation Loss=0.0424, Validation Acc=99% Validation Loss=0.1860, Validation Acc=95%\n",
            "Epoch 24: Train Loss=0.2509 Validation Loss=0.0564, Validation Acc=98% Validation Loss=0.1840, Validation Acc=94%\n",
            "Epoch 25: Train Loss=0.2252 Validation Loss=0.0457, Validation Acc=99% Validation Loss=0.1659, Validation Acc=95%\n",
            "Epoch 26: Train Loss=0.2026 Validation Loss=0.0672, Validation Acc=98% Validation Loss=0.1988, Validation Acc=94%\n",
            "Epoch 27: Train Loss=0.1897 Validation Loss=0.0586, Validation Acc=98% Validation Loss=0.1559, Validation Acc=95%\n",
            "Epoch 28: Train Loss=0.1758 Validation Loss=0.0415, Validation Acc=99% Validation Loss=0.1278, Validation Acc=96%\n",
            "Epoch 29: Train Loss=0.1657 Validation Loss=0.0505, Validation Acc=98% Validation Loss=0.1279, Validation Acc=96%\n",
            "Epoch 30: Train Loss=0.1599 Validation Loss=0.0705, Validation Acc=98% Validation Loss=0.1698, Validation Acc=95%\n",
            "Epoch 31: Train Loss=0.1513 Validation Loss=0.0775, Validation Acc=97% Validation Loss=0.1796, Validation Acc=94%\n",
            "Epoch 32: Train Loss=0.1463 Validation Loss=0.0857, Validation Acc=97% Validation Loss=0.1433, Validation Acc=96%\n",
            "Epoch 33: Train Loss=0.1402 Validation Loss=0.0718, Validation Acc=97% Validation Loss=0.1783, Validation Acc=95%\n",
            "Epoch 34: Train Loss=0.1359 Validation Loss=0.0570, Validation Acc=98% Validation Loss=0.1160, Validation Acc=96%\n",
            "Epoch 35: Train Loss=0.1298 Validation Loss=0.0564, Validation Acc=98% Validation Loss=0.1211, Validation Acc=96%\n",
            "Epoch 36: Train Loss=0.1265 Validation Loss=0.0591, Validation Acc=98% Validation Loss=0.1237, Validation Acc=96%\n",
            "Epoch 37: Train Loss=0.1237 Validation Loss=0.0918, Validation Acc=97% Validation Loss=0.1186, Validation Acc=96%\n",
            "Epoch 38: Train Loss=0.1189 Validation Loss=0.0562, Validation Acc=98% Validation Loss=0.1175, Validation Acc=96%\n",
            "Epoch 39: Train Loss=0.1155 Validation Loss=0.0719, Validation Acc=98% Validation Loss=0.1224, Validation Acc=96%\n"
          ]
        }
      ],
      "source": [
        "# Task B\n",
        "(\n",
        "    epochs_list_2,\n",
        "    losses_EWC_training_2,\n",
        "    losses_EWC_validation_2,\n",
        "    accuracy_EWC_validation_2,\n",
        ") = ewc_training(\n",
        "    model=model_ewc,\n",
        "    train_dataloader=trainB_dataloader,\n",
        "    valid_dataloaders=[validA_dataloader, validB_dataloader],\n",
        "    optimizer=optimizer_ewc,\n",
        "    epochs=20,\n",
        "    device=DEVICE,\n",
        "    ewc_lambda=lambdas,\n",
        "    fishers=fishers,\n",
        "    old_param=old_params,\n",
        "    s_epoch=20,\n",
        ")\n",
        "\n",
        "torch.save(\n",
        "    {\n",
        "        \"model_state_dict\": model_ewc.state_dict(),\n",
        "        \"optimizer_state_dict\": optimizer_ewc.state_dict(),\n",
        "        \"training_losses\": losses_EWC_training_2,\n",
        "        \"validation_losses\": losses_EWC_validation_2,\n",
        "        \"validation_accuracy\": accuracy_EWC_validation_2,\n",
        "    },\n",
        "    \"model_ewc_B_check.tar\",\n",
        ")"
      ]
    },
    {
      "cell_type": "code",
      "execution_count": 27,
      "metadata": {
        "gather": {
          "logged": 1706003390518
        },
        "tags": []
      },
      "outputs": [],
      "source": [
        "checkpoint = torch.load(\"model_ewc_B_check.tar\", map_location=torch.device(DEVICE))\n",
        "\n",
        "model_ewc = MLP_Net_A()\n",
        "model_ewc = model_ewc.to(DEVICE)\n",
        "optimizer_ewc = optim.SGD(model_ewc.parameters(), lr=LEARNING_RATE)\n",
        "\n",
        "# Load model state\n",
        "model_ewc.load_state_dict(checkpoint[\"model_state_dict\"])\n",
        "optimizer_ewc.load_state_dict(checkpoint[\"optimizer_state_dict\"])"
      ]
    },
    {
      "cell_type": "code",
      "execution_count": 28,
      "metadata": {
        "gather": {
          "logged": 1706003528480
        },
        "tags": []
      },
      "outputs": [],
      "source": [
        "dataloaderB_fim = torch.utils.data.DataLoader(\n",
        "    trainB_dataloader.dataset, batch_size=1, shuffle=True\n",
        ")\n",
        "fimA = estimate_fisher_diagonal(\n",
        "    deepcopy(model_ewc), dataloaderA_fim\n",
        ")  # needs to be updated\n",
        "fimB = estimate_fisher_diagonal(deepcopy(model_ewc), dataloaderB_fim)\n",
        "fishers = [\n",
        "    {n: (fimA[n] + fimB[n]) / 2 for n, _ in deepcopy(model_ewc).named_parameters()}\n",
        "]\n",
        "old_params = [{n: p for n, p in deepcopy(model_ewc).named_parameters()}]\n",
        "\n",
        "\n",
        "# lambdas = [GS_lambda(checkpoint, trainC_dataloader, [trainA_dataloader, trainB_dataloader], [2e0,2e1,2e2,2e3,8e4,1e5,2e5,4e5,2e6], [], fishers, old_params)]\n",
        "lambdas = [2e3]"
      ]
    },
    {
      "cell_type": "code",
      "execution_count": 29,
      "metadata": {
        "gather": {
          "logged": 1706006374640
        },
        "id": "LIZWqhjiGH_I",
        "tags": []
      },
      "outputs": [
        {
          "name": "stdout",
          "output_type": "stream",
          "text": [
            "Epoch 40: Train Loss=0.7657 Validation Loss=0.1687, Validation Acc=95% Validation Loss=0.1476, Validation Acc=96% Validation Loss=0.4032, Validation Acc=87%\n",
            "Epoch 41: Train Loss=0.5173 Validation Loss=0.1564, Validation Acc=95% Validation Loss=0.1368, Validation Acc=96% Validation Loss=0.2903, Validation Acc=91%\n",
            "Epoch 42: Train Loss=0.4351 Validation Loss=0.1692, Validation Acc=94% Validation Loss=0.1510, Validation Acc=96% Validation Loss=0.3071, Validation Acc=91%\n",
            "Epoch 43: Train Loss=0.3941 Validation Loss=0.2279, Validation Acc=92% Validation Loss=0.1570, Validation Acc=95% Validation Loss=0.2649, Validation Acc=92%\n",
            "Epoch 44: Train Loss=0.3682 Validation Loss=0.2153, Validation Acc=93% Validation Loss=0.1326, Validation Acc=96% Validation Loss=0.2340, Validation Acc=93%\n",
            "Epoch 45: Train Loss=0.3518 Validation Loss=0.1729, Validation Acc=94% Validation Loss=0.1329, Validation Acc=96% Validation Loss=0.2076, Validation Acc=94%\n",
            "Epoch 46: Train Loss=0.3401 Validation Loss=0.2590, Validation Acc=91% Validation Loss=0.1572, Validation Acc=96% Validation Loss=0.2417, Validation Acc=92%\n",
            "Epoch 47: Train Loss=0.3278 Validation Loss=0.2101, Validation Acc=93% Validation Loss=0.1438, Validation Acc=96% Validation Loss=0.2043, Validation Acc=94%\n",
            "Epoch 48: Train Loss=0.3188 Validation Loss=0.3036, Validation Acc=89% Validation Loss=0.1361, Validation Acc=96% Validation Loss=0.2254, Validation Acc=93%\n",
            "Epoch 49: Train Loss=0.3110 Validation Loss=0.3612, Validation Acc=87% Validation Loss=0.1813, Validation Acc=95% Validation Loss=0.2461, Validation Acc=92%\n",
            "Epoch 50: Train Loss=0.3037 Validation Loss=0.1945, Validation Acc=94% Validation Loss=0.1481, Validation Acc=96% Validation Loss=0.1913, Validation Acc=94%\n",
            "Epoch 51: Train Loss=0.2969 Validation Loss=0.2196, Validation Acc=92% Validation Loss=0.1491, Validation Acc=96% Validation Loss=0.1870, Validation Acc=94%\n",
            "Epoch 52: Train Loss=0.2921 Validation Loss=0.2876, Validation Acc=90% Validation Loss=0.1480, Validation Acc=96% Validation Loss=0.2163, Validation Acc=93%\n",
            "Epoch 53: Train Loss=0.2879 Validation Loss=0.2035, Validation Acc=94% Validation Loss=0.1730, Validation Acc=95% Validation Loss=0.1769, Validation Acc=95%\n",
            "Epoch 54: Train Loss=0.2835 Validation Loss=0.2890, Validation Acc=89% Validation Loss=0.1457, Validation Acc=96% Validation Loss=0.1956, Validation Acc=94%\n",
            "Epoch 55: Train Loss=0.2797 Validation Loss=0.1780, Validation Acc=95% Validation Loss=0.1515, Validation Acc=96% Validation Loss=0.1975, Validation Acc=94%\n",
            "Epoch 56: Train Loss=0.2752 Validation Loss=0.1737, Validation Acc=95% Validation Loss=0.1544, Validation Acc=96% Validation Loss=0.2061, Validation Acc=94%\n",
            "Epoch 57: Train Loss=0.2691 Validation Loss=0.2509, Validation Acc=92% Validation Loss=0.1663, Validation Acc=95% Validation Loss=0.1858, Validation Acc=94%\n",
            "Epoch 58: Train Loss=0.2627 Validation Loss=0.1876, Validation Acc=94% Validation Loss=0.1866, Validation Acc=95% Validation Loss=0.1971, Validation Acc=94%\n",
            "Epoch 59: Train Loss=0.2555 Validation Loss=0.2938, Validation Acc=90% Validation Loss=0.2118, Validation Acc=94% Validation Loss=0.1760, Validation Acc=95%\n"
          ]
        }
      ],
      "source": [
        "# Task C\n",
        "(\n",
        "    epochs_list_3,\n",
        "    losses_EWC_training_3,\n",
        "    losses_EWC_validation_3,\n",
        "    accuracy_EWC_validation_3,\n",
        ") = ewc_training(\n",
        "    model=model_ewc,\n",
        "    train_dataloader=trainC_dataloader,\n",
        "    valid_dataloaders=[validA_dataloader, validB_dataloader, validC_dataloader],\n",
        "    optimizer=optimizer_ewc,\n",
        "    epochs=20,\n",
        "    device=DEVICE,\n",
        "    ewc_lambda=lambdas,\n",
        "    fishers=fishers,\n",
        "    old_param=old_params,\n",
        "    s_epoch=40,\n",
        ")\n",
        "\n",
        "torch.save(\n",
        "    {\n",
        "        \"model_state_dict\": model_ewc.state_dict(),\n",
        "        \"optimizer_state_dict\": optimizer_ewc.state_dict(),\n",
        "        \"training_losses\": losses_EWC_training_3,\n",
        "        \"validation_losses\": losses_EWC_validation_3,\n",
        "        \"validation_accuracy\": accuracy_EWC_validation_3,\n",
        "    },\n",
        "    \"model_ewc_C_check.tar\",\n",
        ")"
      ]
    },
    {
      "cell_type": "markdown",
      "metadata": {},
      "source": [
        "### L2 ###"
      ]
    },
    {
      "cell_type": "code",
      "execution_count": null,
      "metadata": {},
      "outputs": [],
      "source": [
        "old_params = []"
      ]
    },
    {
      "cell_type": "code",
      "execution_count": null,
      "metadata": {
        "gather": {
          "logged": 1704061590998
        }
      },
      "outputs": [],
      "source": [
        "model_l2 = MLP_Net_A()\n",
        "model_l2 = model_l2.to(DEVICE)\n",
        "\n",
        "optimizer_l2 = optim.SGD(model_l2.parameters(), lr=LEARNING_RATE)\n",
        "\n",
        "# train for 20 epochs each training set based on TASK A  (validatiation set A) basic L2\n",
        "(\n",
        "    epochs_list_1,\n",
        "    losses_L2_training_1,\n",
        "    losses_L2_validation_1,\n",
        "    accuracy_L2_validation_1,\n",
        ") = sgd_training(\n",
        "    model=model_l2,\n",
        "    train_dataloader=trainA_dataloader,\n",
        "    valid_dataloaders=[validA_dataloader],\n",
        "    optimizer=optimizer_l2,\n",
        "    epochs=20,\n",
        "    device=DEVICE,\n",
        ")\n",
        "\n",
        "torch.save(\n",
        "    {\n",
        "        \"model_state_dict\": model_l2.state_dict(),\n",
        "        \"optimizer_state_dict\": optimizer_l2.state_dict(),\n",
        "        \"training_losses\": losses_L2_training_1,\n",
        "        \"validation_losses\": losses_L2_validation_1,\n",
        "        \"validation_accuracy\": accuracy_L2_validation_1,\n",
        "    },\n",
        "    \"model_l2_A_check.tar\",\n",
        ")"
      ]
    },
    {
      "cell_type": "code",
      "execution_count": null,
      "metadata": {
        "gather": {
          "logged": 1704061595759
        }
      },
      "outputs": [],
      "source": [
        "checkpoint = torch.load(\"model_l2_A_check.tar\")\n",
        "\n",
        "model_l2 = MLP_Net_A()\n",
        "model_l2 = model_l2.to(DEVICE)\n",
        "optimizer_l2 = optim.SGD(model_l2.parameters(), lr=LEARNING_RATE)\n",
        "\n",
        "# Load model state\n",
        "model_l2.load_state_dict(checkpoint[\"model_state_dict\"])\n",
        "optimizer_l2.load_state_dict(checkpoint[\"optimizer_state_dict\"])"
      ]
    },
    {
      "cell_type": "code",
      "execution_count": null,
      "metadata": {
        "collapsed": false,
        "gather": {
          "logged": 1704061597361
        },
        "jupyter": {
          "outputs_hidden": false,
          "source_hidden": false
        },
        "nteract": {
          "transient": {
            "deleting": false
          }
        }
      },
      "outputs": [],
      "source": [
        "old_params.append({n: p for n, p in deepcopy(model_ewc).named_parameters()})"
      ]
    },
    {
      "cell_type": "code",
      "execution_count": null,
      "metadata": {
        "gather": {
          "logged": 1704061885417
        }
      },
      "outputs": [],
      "source": [
        "# Task B\n",
        "(\n",
        "    epochs_list_2,\n",
        "    losses_L2_training_2,\n",
        "    losses_L2_validation_2,\n",
        "    accuracy_L2_validation_2,\n",
        ") = l2_training(\n",
        "    model=model_l2,\n",
        "    train_dataloader=trainB_dataloader,\n",
        "    valid_dataloaders=[validA_dataloader, validB_dataloader],\n",
        "    optimizer=optimizer_l2,\n",
        "    epochs=20,\n",
        "    device=DEVICE,\n",
        "    ewc_lambda=20,\n",
        "    old_param=old_params,\n",
        "    s_epoch=20,\n",
        ")\n",
        "\n",
        "torch.save(\n",
        "    {\n",
        "        \"model_state_dict\": model_l2.state_dict(),\n",
        "        \"optimizer_state_dict\": optimizer_l2.state_dict(),\n",
        "        \"training_losses\": losses_L2_training_2,\n",
        "        \"validation_losses\": losses_L2_validation_2,\n",
        "        \"validation_accuracy\": accuracy_L2_validation_2,\n",
        "    },\n",
        "    \"model_l2_B_check.tar\",\n",
        ")"
      ]
    },
    {
      "cell_type": "code",
      "execution_count": null,
      "metadata": {
        "gather": {
          "logged": 1704065340308
        }
      },
      "outputs": [],
      "source": [
        "checkpoint = torch.load(\"model_l2_B_check.tar\")\n",
        "\n",
        "model_l2 = MLP_Net_A()\n",
        "model_l2 = model_l2.to(DEVICE)\n",
        "optimizer_l2 = optim.SGD(model_l2.parameters(), lr=LEARNING_RATE)\n",
        "\n",
        "# Load model state\n",
        "model_l2.load_state_dict(checkpoint[\"model_state_dict\"])\n",
        "optimizer_l2.load_state_dict(checkpoint[\"optimizer_state_dict\"])"
      ]
    },
    {
      "cell_type": "code",
      "execution_count": null,
      "metadata": {
        "collapsed": false,
        "gather": {
          "logged": 1704065341000
        },
        "jupyter": {
          "outputs_hidden": false,
          "source_hidden": false
        },
        "nteract": {
          "transient": {
            "deleting": false
          }
        }
      },
      "outputs": [],
      "source": [
        "old_params.append({n: p for n, p in deepcopy(model_ewc).named_parameters()})"
      ]
    },
    {
      "cell_type": "code",
      "execution_count": null,
      "metadata": {
        "gather": {
          "logged": 1704065526592
        }
      },
      "outputs": [],
      "source": [
        "# Task C\n",
        "(\n",
        "    epochs_list_3,\n",
        "    losses_L2_training_3,\n",
        "    losses_L2_validation_3,\n",
        "    accuracy_L2_validation_3,\n",
        ") = l2_training(\n",
        "    model=model_l2,\n",
        "    train_dataloader=trainC_dataloader,\n",
        "    valid_dataloaders=[validA_dataloader, validB_dataloader, validC_dataloader],\n",
        "    optimizer=optimizer_l2,\n",
        "    epochs=20,\n",
        "    device=DEVICE,\n",
        "    ewc_lambda=20,\n",
        "    old_param=old_params,\n",
        "    s_epoch=40,\n",
        ")\n",
        "\n",
        "torch.save(\n",
        "    {\n",
        "        \"model_state_dict\": model_l2.state_dict(),\n",
        "        \"optimizer_state_dict\": optimizer_l2.state_dict(),\n",
        "        \"training_losses\": losses_L2_training_3,\n",
        "        \"validation_losses\": losses_L2_validation_3,\n",
        "        \"validation_accuracy\": accuracy_L2_validation_3,\n",
        "    },\n",
        "    \"model_l2_C_check.tar\",\n",
        ")"
      ]
    },
    {
      "cell_type": "markdown",
      "metadata": {},
      "source": [
        "### Plain SGD ###"
      ]
    },
    {
      "cell_type": "code",
      "execution_count": null,
      "metadata": {
        "gather": {
          "logged": 1704061591827
        }
      },
      "outputs": [],
      "source": [
        "model_sgd = MLP_Net_A()\n",
        "model_sgd = model_sgd.to(DEVICE)\n",
        "\n",
        "optimizer_sgd = optim.SGD(model_sgd.parameters(), lr=LEARNING_RATE)\n",
        "\n",
        "# train for 20 epochs each training set based on TASK A  (validatiation set A) basic L2\n",
        "(\n",
        "    epochs_list_1,\n",
        "    losses_SGD_training_1,\n",
        "    losses_SGD_validation_1,\n",
        "    accuracy_SGD_validation_1,\n",
        ") = sgd_training(\n",
        "    model=model_sgd,\n",
        "    train_dataloader=trainA_dataloader,\n",
        "    valid_dataloaders=[validA_dataloader],\n",
        "    optimizer=optimizer_sgd,\n",
        "    epochs=20,\n",
        "    device=DEVICE,\n",
        ")\n",
        "\n",
        "torch.save(\n",
        "    {\n",
        "        \"model_state_dict\": model_sgd.state_dict(),\n",
        "        \"optimizer_state_dict\": optimizer_sgd.state_dict(),\n",
        "        \"training_losses\": losses_SGD_training_1,\n",
        "        \"validation_losses\": losses_SGD_validation_1,\n",
        "        \"validation_accuracy\": accuracy_SGD_validation_1,\n",
        "    },\n",
        "    \"model_sgd_A_check.tar\",\n",
        ")"
      ]
    },
    {
      "cell_type": "code",
      "execution_count": null,
      "metadata": {
        "gather": {
          "logged": 1704062547191
        }
      },
      "outputs": [],
      "source": [
        "checkpoint = torch.load(\"model_sgd_A_check.tar\")\n",
        "\n",
        "model_sgd = MLP_Net_A()\n",
        "model_sgd = model_sgd.to(DEVICE)\n",
        "optimizer_sgd = optim.SGD(model_sgd.parameters(), lr=LEARNING_RATE)\n",
        "\n",
        "# Load model state\n",
        "model_sgd.load_state_dict(checkpoint[\"model_state_dict\"])\n",
        "optimizer_sgd.load_state_dict(checkpoint[\"optimizer_state_dict\"])"
      ]
    },
    {
      "cell_type": "code",
      "execution_count": null,
      "metadata": {
        "gather": {
          "logged": 1704062830189
        }
      },
      "outputs": [],
      "source": [
        "# Task B\n",
        "(\n",
        "    epochs_list_2,\n",
        "    losses_SGD_training_2,\n",
        "    losses_SGD_validation_2,\n",
        "    accuracy_SGD_validation_2,\n",
        ") = sgd_training(\n",
        "    model=model_sgd,\n",
        "    train_dataloader=trainB_dataloader,\n",
        "    valid_dataloaders=[validA_dataloader, validB_dataloader],\n",
        "    optimizer=optimizer_sgd,\n",
        "    epochs=20,\n",
        "    device=DEVICE,\n",
        "    s_epoch=20,\n",
        "    ewc_lambda=0,\n",
        ")\n",
        "\n",
        "torch.save(\n",
        "    {\n",
        "        \"model_state_dict\": model_sgd.state_dict(),\n",
        "        \"optimizer_state_dict\": optimizer_sgd.state_dict(),\n",
        "        \"training_losses\": losses_SGD_training_2,\n",
        "        \"validation_losses\": losses_SGD_validation_2,\n",
        "        \"validation_accuracy\": accuracy_SGD_validation_2,\n",
        "    },\n",
        "    \"model_sgd_B_check.tar\",\n",
        ")"
      ]
    },
    {
      "cell_type": "code",
      "execution_count": null,
      "metadata": {
        "gather": {
          "logged": 1704062301356
        }
      },
      "outputs": [],
      "source": [
        "checkpoint = torch.load(\"model_sgd_B_check.tar\")\n",
        "\n",
        "model_sgd = MLP_Net_A()\n",
        "model_sgd = model_sgd.to(DEVICE)\n",
        "optimizer_sgd = optim.SGD(model_sgd.parameters(), lr=LEARNING_RATE)\n",
        "\n",
        "# Load model state\n",
        "model_sgd.load_state_dict(checkpoint[\"model_state_dict\"])\n",
        "optimizer_sgd.load_state_dict(checkpoint[\"optimizer_state_dict\"])"
      ]
    },
    {
      "cell_type": "code",
      "execution_count": null,
      "metadata": {
        "gather": {
          "logged": 1704063131818
        }
      },
      "outputs": [],
      "source": [
        "# Task C\n",
        "(\n",
        "    epochs_list_3,\n",
        "    losses_SGD_training_3,\n",
        "    losses_SGD_validation_3,\n",
        "    accuracy_SGD_validation_3,\n",
        ") = sgd_training(\n",
        "    model=model_sgd,\n",
        "    train_dataloader=trainC_dataloader,\n",
        "    valid_dataloaders=[validA_dataloader, validB_dataloader, validC_dataloader],\n",
        "    optimizer=optimizer_sgd,\n",
        "    epochs=20,\n",
        "    device=DEVICE,\n",
        "    s_epoch=40,\n",
        "    ewc_lambda=0,\n",
        ")\n",
        "\n",
        "torch.save(\n",
        "    {\n",
        "        \"model_state_dict\": model_sgd.state_dict(),\n",
        "        \"optimizer_state_dict\": optimizer_sgd.state_dict(),\n",
        "        \"training_losses\": losses_SGD_training_3,\n",
        "        \"validation_losses\": losses_SGD_validation_3,\n",
        "        \"validation_accuracy\": accuracy_SGD_validation_3,\n",
        "    },\n",
        "    \"model_sgd_C_check.tar\",\n",
        ")"
      ]
    },
    {
      "cell_type": "markdown",
      "metadata": {
        "id": "LSm680_PBq9r"
      },
      "source": [
        "## Plotting ##"
      ]
    },
    {
      "cell_type": "code",
      "execution_count": 30,
      "metadata": {
        "gather": {
          "logged": 1706006413986
        }
      },
      "outputs": [],
      "source": [
        "cp_EWC1 = torch.load(\"model_EWC_A_check.tar\", map_location=torch.device(DEVICE))\n",
        "cp_EWC2 = torch.load(\"model_EWC_B_check.tar\", map_location=torch.device(DEVICE))\n",
        "cp_EWC3 = torch.load(\"model_EWC_C_check.tar\", map_location=torch.device(DEVICE))\n",
        "\n",
        "losses_EWC_training_1, losses_EWC_validation_1, accuracy_EWC_validation_1 = (\n",
        "    cp_EWC1[name]\n",
        "    for name in [\"training_losses\", \"validation_losses\", \"validation_accuracy\"]\n",
        ")\n",
        "losses_EWC_training_2, losses_EWC_validation_2, accuracy_EWC_validation_2 = (\n",
        "    cp_EWC2[name]\n",
        "    for name in [\"training_losses\", \"validation_losses\", \"validation_accuracy\"]\n",
        ")\n",
        "losses_EWC_training_3, losses_EWC_validation_3, accuracy_EWC_validation_3 = (\n",
        "    cp_EWC3[name]\n",
        "    for name in [\"training_losses\", \"validation_losses\", \"validation_accuracy\"]\n",
        ")\n",
        "\n",
        "cp_L21 = torch.load(\"model_L2_A_check.tar\", map_location=torch.device(DEVICE))\n",
        "cp_L22 = torch.load(\"model_L2_B_check.tar\", map_location=torch.device(DEVICE))\n",
        "cp_L23 = torch.load(\"model_L2_C_check.tar\", map_location=torch.device(DEVICE))\n",
        "\n",
        "losses_L2_training_1, losses_L2_validation_1, accuracy_L2_validation_1 = (\n",
        "    cp_L21[name]\n",
        "    for name in [\"training_losses\", \"validation_losses\", \"validation_accuracy\"]\n",
        ")\n",
        "losses_L2_training_2, losses_L2_validation_2, accuracy_L2_validation_2 = (\n",
        "    cp_L22[name]\n",
        "    for name in [\"training_losses\", \"validation_losses\", \"validation_accuracy\"]\n",
        ")\n",
        "losses_L2_training_3, losses_L2_validation_3, accuracy_L2_validation_3 = (\n",
        "    cp_L23[name]\n",
        "    for name in [\"training_losses\", \"validation_losses\", \"validation_accuracy\"]\n",
        ")\n",
        "\n",
        "cp_SGD1 = torch.load(\"model_sgd_A_check.tar\", map_location=torch.device(DEVICE))\n",
        "cp_SGD2 = torch.load(\"model_sgd_B_check.tar\", map_location=torch.device(DEVICE))\n",
        "cp_SGD3 = torch.load(\"model_sgd_C_check.tar\", map_location=torch.device(DEVICE))\n",
        "\n",
        "losses_SGD_training_1, losses_SGD_validation_1, accuracy_SGD_validation_1 = (\n",
        "    cp_SGD1[name]\n",
        "    for name in [\"training_losses\", \"validation_losses\", \"validation_accuracy\"]\n",
        ")\n",
        "losses_SGD_training_2, losses_SGD_validation_2, accuracy_SGD_validation_2 = (\n",
        "    cp_SGD2[name]\n",
        "    for name in [\"training_losses\", \"validation_losses\", \"validation_accuracy\"]\n",
        ")\n",
        "losses_SGD_training_3, losses_SGD_validation_3, accuracy_SGD_validation_3 = (\n",
        "    cp_SGD3[name]\n",
        "    for name in [\"training_losses\", \"validation_losses\", \"validation_accuracy\"]\n",
        ")"
      ]
    },
    {
      "cell_type": "code",
      "execution_count": 31,
      "metadata": {
        "colab": {
          "base_uri": "https://localhost:8080/",
          "height": 430
        },
        "executionInfo": {
          "elapsed": 1302,
          "status": "ok",
          "timestamp": 1703098171732,
          "user": {
            "displayName": "Anh Do Quang",
            "userId": "10755844953238193000"
          },
          "user_tz": -60
        },
        "gather": {
          "logged": 1706006415321
        },
        "id": "WBD6SrB0Bqfd",
        "outputId": "55f590e3-5ff3-4763-9dd6-beade43e0451"
      },
      "outputs": [
        {
          "data": {
            "image/png": "[encoded data removed]",
            "text/plain": [
              "<Figure size 640x480 with 3 Axes>"
            ]
          },
          "metadata": {},
          "output_type": "display_data"
        }
      ],
      "source": [
        "fig, ax = plt.subplots(3, 1, sharex=True)\n",
        "\n",
        "ax[0].plot(\n",
        "    accuracy_EWC_validation_1[0]\n",
        "    + accuracy_EWC_validation_2[0]\n",
        "    + accuracy_EWC_validation_3[0],\n",
        "    label=\"EWC\",\n",
        ")\n",
        "ax[0].plot(\n",
        "    accuracy_L2_validation_1[0]\n",
        "    + accuracy_L2_validation_2[0]\n",
        "    + accuracy_L2_validation_3[0],\n",
        "    label=\"L2\",\n",
        ")\n",
        "ax[0].plot(\n",
        "    accuracy_SGD_validation_1[0]\n",
        "    + accuracy_SGD_validation_2[0]\n",
        "    + accuracy_SGD_validation_3[0],\n",
        "    label=\"SGD\",\n",
        ")\n",
        "\n",
        "ax[1].plot(\n",
        "    range(20, 60),\n",
        "    accuracy_EWC_validation_2[1] + accuracy_EWC_validation_3[1],\n",
        "    label=\"EWC\",\n",
        ")\n",
        "ax[1].plot(\n",
        "    range(20, 60), accuracy_L2_validation_2[1] + accuracy_L2_validation_3[1], label=\"L2\"\n",
        ")\n",
        "ax[1].plot(\n",
        "    range(20, 60),\n",
        "    accuracy_SGD_validation_2[1] + accuracy_SGD_validation_3[1],\n",
        "    label=\"SGD\",\n",
        ")\n",
        "\n",
        "ax[2].plot(range(40, 60), accuracy_EWC_validation_3[2], label=\"EWC\")\n",
        "ax[2].plot(range(40, 60), accuracy_L2_validation_3[2], label=\"L2\")\n",
        "ax[2].plot(range(40, 60), accuracy_SGD_validation_3[2], label=\"SGD\")\n",
        "\n",
        "for i in range(0, 3):\n",
        "    ax[i].legend()\n",
        "    ax[i].set_ylim([10, 100])\n",
        "    ax[i].set_title(f\"Task {i+1}\")\n",
        "    ax[i].axvline(x=20, ls=\"--\", color=\"red\")  # Add vertical line at x=20\n",
        "    ax[i].axvline(x=40, ls=\"--\", color=\"red\")  # Add vertical line at x=40\n",
        "\n",
        "plt.tight_layout()\n",
        "plt.show()"
      ]
    },
    {
      "cell_type": "markdown",
      "metadata": {
        "nteract": {
          "transient": {
            "deleting": false
          }
        }
      },
      "source": [
        "## Second Part ##"
      ]
    },
    {
      "cell_type": "code",
      "execution_count": 36,
      "metadata": {
        "gather": {
          "logged": 1705866840416
        },
        "jupyter": {
          "outputs_hidden": false,
          "source_hidden": false
        },
        "nteract": {
          "transient": {
            "deleting": false
          }
        }
      },
      "outputs": [],
      "source": [
        "tasks = [\n",
        "    data_generation(i, num_workers=0) for i in range(10)\n",
        "]  # Tasks[1,2,3] is test, train, validation"
      ]
    }
  ],
  "metadata": {
    "colab": {
      "collapsed_sections": [
        "AZ29z10alsvA",
        "Is-GoqAJ5YGq",
        "LSm680_PBq9r"
      ],
      "provenance": []
    },
    "kernel_info": {
      "name": "python38-azureml"
    },
    "kernelspec": {
      "display_name": "Python 3.8 - AzureML",
      "language": "python",
      "name": "python38-azureml"
    },
    "language_info": {
      "codemirror_mode": {
        "name": "ipython",
        "version": 3
      },
      "file_extension": ".py",
      "mimetype": "text/x-python",
      "name": "python",
      "nbconvert_exporter": "python",
      "pygments_lexer": "ipython3",
      "version": "3.8.5"
    },
    "microsoft": {
      "host": {
        "AzureML": {
          "notebookHasBeenCompleted": true
        }
      },
      "ms_spell_check": {
        "ms_spell_check_language": "en"
      }
    },
    "nteract": {
      "version": "nteract-front-end@1.0.0"
    }
  },
  "nbformat": 4,
  "nbformat_minor": 4
}
